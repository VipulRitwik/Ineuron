{
  "nbformat": 4,
  "nbformat_minor": 0,
  "metadata": {
    "colab": {
      "name": "Untitled1.ipynb",
      "provenance": [],
      "authorship_tag": "ABX9TyPkgd+8H9dMmE2QNMQHc4CJ"
    },
    "kernelspec": {
      "name": "python3",
      "display_name": "Python 3"
    }
  },
  "cells": [
    {
      "cell_type": "code",
      "metadata": {
        "id": "BtwkfTNzU1fI"
      },
      "source": [
        ""
      ],
      "execution_count": null,
      "outputs": []
    },
    {
      "cell_type": "code",
      "metadata": {
        "colab": {
          "base_uri": "https://localhost:8080/"
        },
        "id": "dipCPJiKRLhT",
        "outputId": "9c8abeca-0c63-41f5-aeac-e5e5652fd34c"
      },
      "source": [
        "for i in range(6):\r\n",
        "    for j in range(i):\r\n",
        "        print(\"*\", end = \" \")\r\n",
        "    print(end=\"\\n\")\r\n",
        "for k in range(4, 0, -1):\r\n",
        "    for l in range(k):\r\n",
        "        print(\"*\", end = \" \")\r\n",
        "    print(end=\"\\n\")\r\n",
        "    "
      ],
      "execution_count": 1,
      "outputs": [
        {
          "output_type": "stream",
          "text": [
            "\n",
            "* \n",
            "* * \n",
            "* * * \n",
            "* * * * \n",
            "* * * * * \n",
            "* * * * \n",
            "* * * \n",
            "* * \n",
            "* \n"
          ],
          "name": "stdout"
        }
      ]
    },
    {
      "cell_type": "code",
      "metadata": {
        "colab": {
          "base_uri": "https://localhost:8080/"
        },
        "id": "OmYnFiVpU2wT",
        "outputId": "5873f67f-f556-4208-f314-0df23256f227"
      },
      "source": [
        "word = input(\"Enter a word: \")\r\n",
        "print(f\"Reverse word is: {word[::-1]}\")"
      ],
      "execution_count": 2,
      "outputs": [
        {
          "output_type": "stream",
          "text": [
            "Enter a word: Ineuron\n",
            "Reverse word is: noruenI\n"
          ],
          "name": "stdout"
        }
      ]
    },
    {
      "cell_type": "code",
      "metadata": {
        "id": "fzfgesySU-b6"
      },
      "source": [
        ""
      ],
      "execution_count": null,
      "outputs": []
    }
  ]
}